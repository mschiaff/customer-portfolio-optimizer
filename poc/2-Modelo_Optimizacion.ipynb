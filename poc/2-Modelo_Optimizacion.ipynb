{
 "cells": [
  {
   "cell_type": "markdown",
   "metadata": {},
   "source": [
    "# 1. Importación de librerías"
   ]
  },
  {
   "cell_type": "code",
   "execution_count": 3,
   "metadata": {},
   "outputs": [],
   "source": [
    "# Importa librería Mixed-Integer Linear Programs (mip)\n",
    "import mip\n",
    "\n",
    "# Importa librería numpy como np\n",
    "import numpy as np\n",
    "\n",
    "# Importa librería pandas como pd\n",
    "import pandas as pd"
   ]
  },
  {
   "cell_type": "markdown",
   "metadata": {},
   "source": [
    "# 2. Carga de datos"
   ]
  },
  {
   "cell_type": "code",
   "execution_count": 4,
   "metadata": {},
   "outputs": [],
   "source": [
    "# Carga base de datos de ejemplo\n",
    "df = pd.read_excel('data/Dataset_Ejemplo.xlsx')"
   ]
  },
  {
   "cell_type": "markdown",
   "metadata": {},
   "source": [
    "# 3. Construcción del Modelo"
   ]
  },
  {
   "cell_type": "markdown",
   "metadata": {},
   "source": [
    "## 3.1. Definición del tipo de modelo\n",
    "\n",
    "$$\n",
    "\\Large\n",
    "\\text{Objetivo} = min\\ <función>\n",
    "$$\n",
    "\n",
    "$$\n",
    "\\Large\n",
    "\\text{Cantidad Clientes }(N) = 5.721\n",
    "$$\n",
    "\n",
    "$$\n",
    "\\Large\n",
    "\\text{Cantidad Carteras }(M) = 4\n",
    "$$"
   ]
  },
  {
   "cell_type": "code",
   "execution_count": 5,
   "metadata": {},
   "outputs": [],
   "source": [
    "# Crea instancia de Modelo de Optimización, definiendo nombre, tipo de modelo (Minimización)\n",
    "# y el tipo de solver (CBC)\n",
    "modelo = mip.Model(name='Optimizador_Cartera', sense=mip.MINIMIZE, solver_name=mip.CBC)\n",
    "\n",
    "# Cantidad de registros en la base de datos. Representa la cantidad\n",
    "# de clientes a asignar y, por lo tanto, la cantidad de variables de decisión\n",
    "nClientes = df.shape[0]\n",
    "\n",
    "# Define variable con la cantidad de carteras en las que hay que distribuir\n",
    "# los clientes\n",
    "nCarteras = 4"
   ]
  },
  {
   "cell_type": "markdown",
   "metadata": {},
   "source": [
    "## 3.2. Definición de variables de decisión y parámetros\n",
    "\n",
    "$$\n",
    "\\Large\n",
    "X_{ij} =\n",
    "\\begin{cases} \n",
    "1, & \\text{Se asigna el cliente “i” a la cartera “j”} \\\\ \n",
    "0, & \\text{En caso contrario}\n",
    "\\end{cases}\n",
    "$$\n",
    "\n",
    "$$\n",
    "\\Large\n",
    "X_{ij} \\in [0, 1]\n",
    "$$\n",
    "\n",
    "$$\n",
    "\\Large\n",
    "i \\in [0, 1, 2, \\dots, n]\n",
    "$$\n",
    "\n",
    "$$\n",
    "\\Large\n",
    "n = N-1\n",
    "$$\n",
    "\n",
    "$$\n",
    "\\Large\n",
    "j \\in [0, 1, 2, \\dots, m]\n",
    "$$\n",
    "\n",
    "$$\n",
    "\\Large\n",
    "m = M-1\n",
    "$$\n",
    "\n",
    "$$\n",
    "\\Large\n",
    "X = \\begin{bmatrix}\n",
    "X_{00} & X_{01} & X_{02} & X_{03} \\\\\n",
    "X_{10} & X_{11} & X_{12} & X_{13} \\\\\n",
    "\\vdots & \\vdots & \\vdots & \\vdots \\\\\n",
    "X_{n0} & X_{n1} & X_{n2} & X_{nm}\n",
    "\\end{bmatrix}_{N\\ x\\ M}\n",
    "$$\n",
    "\n",
    "$$\n",
    "\\Large\n",
    "F = \\begin{bmatrix}\n",
    "F_{0} & 0 & 0 & 0 \\\\\n",
    "0 & F_{1} & 0 & 0 \\\\\n",
    "\\vdots & \\vdots & \\vdots & \\vdots \\\\\n",
    "0 & 0 & 0 & F_{n}\n",
    "\\end{bmatrix}_{N\\ x\\ N}\n",
    "$$"
   ]
  },
  {
   "cell_type": "code",
   "execution_count": 6,
   "metadata": {},
   "outputs": [],
   "source": [
    "# Define variable de decisión. Es un tensor de (nClientes, nCarteras),\n",
    "# donde cada \"fila\" es si el cliente \"i\" es asignado a la cartera \"j\"\n",
    "Xij = modelo.add_var_tensor(\n",
    "    shape=(nClientes, nCarteras),\n",
    "    name=f'Cliente_Cartera',\n",
    "    var_type=mip.BINARY\n",
    ")\n",
    "\n",
    "# Define matriz diagonal con la facturación de cada cliente\n",
    "Fj = np.diagflat(df.Ingresos.to_numpy())"
   ]
  },
  {
   "cell_type": "markdown",
   "metadata": {},
   "source": [
    "## 3.3. Definición de función objetivo\n",
    "\n",
    "$$\n",
    "\\Large\n",
    "FX =\n",
    "\\begin{bmatrix}\n",
    "F_{0} & 0 & \\cdots & 0 \\\\\n",
    "0 & F_{1} & \\cdots & 0 \\\\\n",
    "\\vdots & \\vdots & \\vdots & \\vdots \\\\\n",
    "0 & 0 & \\cdots & F_{n}\n",
    "\\end{bmatrix}_{N\\ x\\ N} =\n",
    "\n",
    "\\Large\n",
    "\\begin{bmatrix}\n",
    "X_{00} & X_{01} & X_{02} & X_{03} \\\\\n",
    "X_{10} & X_{11} & X_{12} & X_{13} \\\\\n",
    "\\vdots & \\vdots & \\vdots & \\vdots \\\\\n",
    "X_{n0} & X_{n1} & X_{n2} & X_{nm}\n",
    "\\end{bmatrix}_{N\\ x\\ M} =\n",
    "\n",
    "\\begin{bmatrix}\n",
    "F_{0}X_{00} & F_{0}X_{01} & F_{0}X_{02} & F_{0}X_{03} \\\\\n",
    "F_{1}X_{10} & F_{1}X_{11} & F_{1}X_{12} & F_{1}X_{13} \\\\\n",
    "\\vdots & \\vdots & \\vdots & \\vdots \\\\\n",
    "F_{n}X_{n0} & F_{n}X_{n1} & F_{n}X_{n2} & F_{n}X_{nm}\n",
    "\\end{bmatrix}_{N\\ x\\ M}\n",
    "$$\n",
    "\n",
    "$$\n",
    "\\Large\n",
    "\\text{Objetivo} = min\\ \\sum_{i=0}^{n} \\sum_{j=0}^{m} F_{i}X_{ij}\n",
    "$$"
   ]
  },
  {
   "cell_type": "code",
   "execution_count": 7,
   "metadata": {},
   "outputs": [],
   "source": [
    "# Define la función objetivo, que es minimizar el producto de un mismo cliente\n",
    "# para las distintas carteras por su ingreso\n",
    "modelo.objective = mip.xsum(Fj[i,i] * Xij[i,j] for i in range(nClientes) for j in range(nCarteras))"
   ]
  },
  {
   "cell_type": "markdown",
   "metadata": {},
   "source": [
    "## 3.4. Definición de restricciones\n",
    "\n",
    "**Mejor Holgura**\n",
    "* Clientes: 1\n",
    "* Ingresos: 5.000.000\n",
    "\n",
    "**Holgura de Ejemplo**\n",
    "* Clientes: 1\n",
    "* Ingresos: 4.000.000"
   ]
  },
  {
   "cell_type": "markdown",
   "metadata": {},
   "source": [
    "### 3.4.1. Cantidad de clientes por cartera\n",
    "\n",
    "> Cada cartera debe tener aproximadamente la misma cantidad de clientes.\n",
    "\n",
    "$$\n",
    "\\Large\n",
    "\n",
    "\\sum_{i=0}^{n} X_{ij} \\geq 1.430 - h_{c},\\ \\forall\\ j\n",
    "$$"
   ]
  },
  {
   "cell_type": "code",
   "execution_count": null,
   "metadata": {},
   "outputs": [],
   "source": [
    "# Parámetro de holgura de clientes\n",
    "Hc = 1\n",
    "\n",
    "# Cada cartera debe tener aproximadamente la misma cantidad de clientes\n",
    "for j in range(nCarteras):\n",
    "    modelo.add_constr(\n",
    "        mip.xsum(Xij[i,j] for i in range(nClientes)) >= (nClientes // nCarteras) - Hc,\n",
    "        name=f'Clientes_Cartera_{j}'\n",
    "    )"
   ]
  },
  {
   "cell_type": "markdown",
   "metadata": {},
   "source": [
    "### 3.4.2. Total de ingresos por cartera\n",
    "\n",
    "> Cada cartera debe sumar aproximadamente la misma cantidad de ingresos.\n",
    "\n",
    "$$\n",
    "\\Large\n",
    "\n",
    "\\sum_{i=0}^{n} F_{i}X_{ij} \\geq 2.793.658.250 - h_{f},\\ \\forall\\ j\n",
    "$$"
   ]
  },
  {
   "cell_type": "code",
   "execution_count": 9,
   "metadata": {},
   "outputs": [],
   "source": [
    "# Parámetro de holgura de ingresos\n",
    "Hf = 5_000_000\n",
    "\n",
    "# Cada cartera debe sumar aproximadamente la misma cantidad de ingresos\n",
    "for j in range(nCarteras):\n",
    "    modelo.add_constr(\n",
    "        mip.xsum(Fj[i,i] * Xij[i,j] for i in range(nClientes)) >= (df.Ingresos.sum() // nCarteras) - Hf,\n",
    "        name=f'Ingresos_Cartera_{j}'\n",
    "    )"
   ]
  },
  {
   "cell_type": "markdown",
   "metadata": {},
   "source": [
    "### 3.4.3. Asignar clientes a una sola cartera\n",
    "\n",
    "> Cada cliente puede estar asignado a una sola cartera, o ninguna.\n",
    "\n",
    "$$\n",
    "\\Large\n",
    "\n",
    "\\sum_{j=0}^{m} X_{ij} \\leq 1,\\ \\forall\\ i\n",
    "$$"
   ]
  },
  {
   "cell_type": "code",
   "execution_count": 10,
   "metadata": {},
   "outputs": [],
   "source": [
    "# Cada cliente puede estar asignado a una sola cartera, o ninguna\n",
    "for i in range(nClientes):\n",
    "    modelo.add_constr(\n",
    "        mip.xsum(Xij[i,j] for j in range(nCarteras)) <= 1,\n",
    "        name=f'Cliente_{i}_Asignado'\n",
    "    )"
   ]
  },
  {
   "cell_type": "markdown",
   "metadata": {},
   "source": [
    "# 4. Ejecucición del Modelo"
   ]
  },
  {
   "cell_type": "code",
   "execution_count": 11,
   "metadata": {},
   "outputs": [
    {
     "name": "stdout",
     "output_type": "stream",
     "text": [
      "Tiempo Máximo: 5.0 minutos\n",
      "\n",
      "Welcome to the CBC MILP Solver \n",
      "Version: Trunk\n",
      "Build Date: Jan 16 2024\n",
      "Starting solution of the Linear programming relaxation problem using Primal Simplex\n",
      "\n",
      "Coin0506I Presolve 5729 (0) rows, 22884 (0) columns and 68652 (0) elements\n",
      "Clp0030I 39 infeas 556.77476, obj 1.1151133e+10 - mu 3.5322182e-09, its 105, 22058 interior\n",
      "Clp0006I 0  Obj 1.1152088e+10 Primal inf 437.53925 (3575) Dual inf 2.282459e+16 (22881)\n",
      "Clp0029I End of values pass after 22427 iterations\n",
      "Clp0014I Perturbing problem by 0.001% of 1.329452 - largest nonzero change 2.9975026e-05 ( 0.0014987513%) - largest zero change 2.999521e-05\n",
      "Clp0006I 25308  Obj 1.1154633e+10 Primal inf 21.082721 (23) Dual inf 607769.81 (930)\n",
      "Clp0000I Optimal - objective value 1.1159638e+10\n",
      "Clp0032I Optimal objective 1.115963777e+10 - 25802 iterations time 2.132, Idiot 1.32\n",
      "\n",
      "Starting MIP optimization\n",
      "maxSavedSolutions was changed from 1 to 10\n",
      "Continuous objective value is 1.11596e+10 - 0.007003 seconds\n",
      "Cgl0004I processed model has 5729 rows, 22884 columns (22884 integer (22884 of which binary)) and 68652 elements\n",
      "Coin3009W Conflict graph built in 0.005 seconds, density: 0.005%\n",
      "Cgl0015I Clique Strengthening extended 0 cliques, 0 were dominated\n",
      "Cbc0038I Initial state - 10 integers unsatisfied sum - 2.42132\n",
      "Cbc0038I Pass   1: (0.49 seconds) suminf.    0.32166 (2) obj. 1.11606e+10 iterations 4450\n",
      "Cbc0038I Solution found of 1.11656e+10\n",
      "Cbc0038I Rounding solution of 1.11631e+10 is better than previous of 1.11656e+10\n",
      "Cbc0038I Before mini branch and bound, 22872 integers at bound fixed and 0 continuous\n",
      "Cbc0038I Full problem 5729 rows 22884 columns, reduced to 9 rows 10 columns\n",
      "Cbc0038I Mini branch and bound improved solution from 1.11631e+10 to 1.11596e+10 (0.53 seconds)\n",
      "Cbc0038I After 0.53 seconds - Feasibility pump exiting with objective of 1.11596e+10 - took 0.37 seconds\n",
      "Cbc0012I Integer solution of 1.1159638e+10 found by feasibility pump after 0 iterations and 0 nodes (0.53 seconds)\n",
      "Cbc0001I Search completed - best objective 11159637768, took 0 iterations and 0 nodes (0.55 seconds)\n",
      "Cbc0035I Maximum depth 0, 0 variables fixed on reduced cost\n",
      "Cuts at root node changed objective from 1.11596e+10 to 1.11596e+10\n",
      "Probing was tried 0 times and created 0 cuts (0 seconds)\n",
      "Gomory was tried 0 times and created 0 cuts (0 seconds)\n",
      "Knapsack was tried 0 times and created 0 cuts (0 seconds)\n",
      "Clique was tried 0 times and created 0 cuts (0 seconds)\n",
      "OddWheel was tried 0 times and created 0 cuts (0 seconds)\n",
      "MixedIntegerRounding2 was tried 0 times and created 0 cuts (0 seconds)\n",
      "FlowCover was tried 0 times and created 0 cuts (0 seconds)\n",
      "TwoMirCuts was tried 0 times and created 0 cuts (0 seconds)\n",
      "ZeroHalf was tried 0 times and created 0 cuts (0 seconds)\n",
      "\n",
      "Result - Optimal solution found\n",
      "Objective value:                11159637768\n",
      "Enumerated nodes:               0\n",
      "Total iterations:               0\n",
      "Time (CPU seconds):             0.520342\n",
      "Time (Wallclock seconds):       0.577486\n",
      "Total time (CPU seconds):       0.52043   (Wallclock seconds):       0.578716\n",
      "\n",
      "Solución: OPTIMAL\n"
     ]
    }
   ],
   "source": [
    "# Define variable con la máxima cantidad de segundos permitidos para ejecución del modelo\n",
    "max_seconds = 300\n",
    "print(f'Tiempo Máximo: {max_seconds/60:,.1f} minutos\\n')\n",
    "\n",
    "# Ejecuta el modelo, y guarda su estado en la variable \"status\"\n",
    "status = modelo.optimize(max_seconds=max_seconds)\n",
    "\n",
    "# Muestra al final el tipo de solución alcanzada\n",
    "print(f'\\nSolución: {status.name}')"
   ]
  },
  {
   "cell_type": "markdown",
   "metadata": {},
   "source": [
    "# 5. Consolidación de Resultados"
   ]
  },
  {
   "cell_type": "code",
   "execution_count": 12,
   "metadata": {},
   "outputs": [],
   "source": [
    "# Define variable con la cantidad de variables que tiene el modelo\n",
    "nVars = modelo.vars.__len__()\n",
    "\n",
    "# Define dataframe vacío para acumular los resultados del modelo\n",
    "df_resultado = pd.DataFrame()\n",
    "\n",
    "# Lista con los nombres de campos del dataframe. Es un campo por cada cartera\n",
    "col_names = [f'Cartera_{j}' for j in range(nCarteras)]\n",
    "\n",
    "# Los resultados se encuentran en una lista unidimensional, donde los resultados\n",
    "# para cada cliente se encuentran ordenados por cliente y cartera. Luego, el resultado\n",
    "# de un cliente completo se encuentra cada n-carteras que se hayan definido.\n",
    "\n",
    "# Para cada \"i\" entre 0 y la cantidad de variables a pasos de la cantidad de carteras...\n",
    "for i in range(0, nVars, nCarteras):\n",
    "    # Obtiene el resultado de un mismo cliente entre todas las carteras\n",
    "    resultado_clte = modelo.vars[i: i + nCarteras]\n",
    "\n",
    "    # Obtiene el valor de las variables de un mismo cliente entre todas las carteras\n",
    "    resultado_clte = [[valor.x for valor in resultado_clte]]\n",
    "    \n",
    "    # Crea un dataframe auxiliar para guardar el resultado de cada cliente\n",
    "    df_aux = pd.DataFrame(data=resultado_clte, columns=col_names)\n",
    "\n",
    "    # Concentra el resultado en el dataframe de resultados. Como el resultado de cada cliente\n",
    "    # para todas las carteras se registra en forma ordenada, el index del dataframe es el mismo\n",
    "    # que el del cliente cuando es definido e ingresado al modelo. El dataframe de resultado\n",
    "    # contiene una fila por cliente, indicando con 0 o 1 en el campo de cada cartera\n",
    "    df_resultado = pd.concat([df_resultado, df_aux], ignore_index=True)"
   ]
  },
  {
   "cell_type": "code",
   "execution_count": 13,
   "metadata": {},
   "outputs": [],
   "source": [
    "# Crea el campo \"Asignacion\" con la suma de los valores por cada cliente. Los asignados\n",
    "# siempre sumarán 1, lo que se reemplaza por NaN, y los no asignados sumarán 0, lo que se\n",
    "# reemplaza por \"Sin Asignar\"\n",
    "df_resultado['Asignacion'] = df_resultado.sum(axis=1).replace({1: np.nan, 0: 'Sin Asignar'})\n",
    "\n",
    "# Por cada \"j\" entre 0 y la cantidad de carteras...\n",
    "for j in range(nCarteras):\n",
    "    # Reemplaza en el campo que corresponde a cada cartera el valor 0 por NaN y el valor 1\n",
    "    # por el nombre de la cartera, que es igual al del campo\n",
    "    df_resultado[f'Cartera_{j}'] = df_resultado[f'Cartera_{j}'].replace({0: np.nan, 1: f'Cartera_{j}'})\n",
    "\n",
    "# Por cada \"j\" entre 0 y la cantidad de carteras...\n",
    "for j in range(nCarteras):\n",
    "    # En el campo \"Asignación\" solo se encuentra el valor \"Sin Asignar\" y NaN. Luego, con los\n",
    "    # valores de cada campo de cartera, rellena los NaN con el nombre de la cartera. De esta\n",
    "    # forma el campo \"Asignación\" tendrá los valores \"Sin Asignar\" o el nombre de la cartera\n",
    "    # a la que cada cliente fue asignado\n",
    "    df_resultado['Asignacion'] = df_resultado.Asignacion.fillna(df_resultado[f'Cartera_{j}'])\n",
    "\n",
    "# Lleva los resultados de la asignación al dataframe original cargado\n",
    "df = df.merge(df_resultado[['Asignacion']], left_index=True, right_index=True)"
   ]
  },
  {
   "cell_type": "markdown",
   "metadata": {},
   "source": [
    "# 6. Análisis de Resultados"
   ]
  },
  {
   "cell_type": "code",
   "execution_count": 14,
   "metadata": {},
   "outputs": [
    {
     "data": {
      "text/html": [
       "<style type=\"text/css\">\n",
       "</style>\n",
       "<table id=\"T_d1748\">\n",
       "  <thead>\n",
       "    <tr>\n",
       "      <th class=\"blank level0\" >&nbsp;</th>\n",
       "      <th id=\"T_d1748_level0_col0\" class=\"col_heading level0 col0\" >Clientes</th>\n",
       "      <th id=\"T_d1748_level0_col1\" class=\"col_heading level0 col1\" >Ingresos</th>\n",
       "      <th id=\"T_d1748_level0_col2\" class=\"col_heading level0 col2\" >Diferencia_Porcentual</th>\n",
       "    </tr>\n",
       "    <tr>\n",
       "      <th class=\"index_name level0\" >Asignacion</th>\n",
       "      <th class=\"blank col0\" >&nbsp;</th>\n",
       "      <th class=\"blank col1\" >&nbsp;</th>\n",
       "      <th class=\"blank col2\" >&nbsp;</th>\n",
       "    </tr>\n",
       "  </thead>\n",
       "  <tbody>\n",
       "    <tr>\n",
       "      <th id=\"T_d1748_level0_row0\" class=\"row_heading level0 row0\" >Cartera_0</th>\n",
       "      <td id=\"T_d1748_row0_col0\" class=\"data row0 col0\" >1.429</td>\n",
       "      <td id=\"T_d1748_row0_col1\" class=\"data row0 col1\" >$2.788.959.691</td>\n",
       "      <td id=\"T_d1748_row0_col2\" class=\"data row0 col2\" >-0,2%</td>\n",
       "    </tr>\n",
       "    <tr>\n",
       "      <th id=\"T_d1748_level0_row1\" class=\"row_heading level0 row1\" >Cartera_1</th>\n",
       "      <td id=\"T_d1748_row1_col0\" class=\"data row1 col0\" >1.429</td>\n",
       "      <td id=\"T_d1748_row1_col1\" class=\"data row1 col1\" >$2.789.250.729</td>\n",
       "      <td id=\"T_d1748_row1_col2\" class=\"data row1 col2\" >-0,2%</td>\n",
       "    </tr>\n",
       "    <tr>\n",
       "      <th id=\"T_d1748_level0_row2\" class=\"row_heading level0 row2\" >Cartera_2</th>\n",
       "      <td id=\"T_d1748_row2_col0\" class=\"data row2 col0\" >1.429</td>\n",
       "      <td id=\"T_d1748_row2_col1\" class=\"data row2 col1\" >$2.792.000.840</td>\n",
       "      <td id=\"T_d1748_row2_col2\" class=\"data row2 col2\" >-0,1%</td>\n",
       "    </tr>\n",
       "    <tr>\n",
       "      <th id=\"T_d1748_level0_row3\" class=\"row_heading level0 row3\" >Cartera_3</th>\n",
       "      <td id=\"T_d1748_row3_col0\" class=\"data row3 col0\" >1.429</td>\n",
       "      <td id=\"T_d1748_row3_col1\" class=\"data row3 col1\" >$2.789.426.508</td>\n",
       "      <td id=\"T_d1748_row3_col2\" class=\"data row3 col2\" >-0,2%</td>\n",
       "    </tr>\n",
       "    <tr>\n",
       "      <th id=\"T_d1748_level0_row4\" class=\"row_heading level0 row4\" >Sin Asignar</th>\n",
       "      <td id=\"T_d1748_row4_col0\" class=\"data row4 col0\" >5</td>\n",
       "      <td id=\"T_d1748_row4_col1\" class=\"data row4 col1\" >$14.995.234</td>\n",
       "      <td id=\"T_d1748_row4_col2\" class=\"data row4 col2\" >-99,5%</td>\n",
       "    </tr>\n",
       "  </tbody>\n",
       "</table>\n"
      ],
      "text/plain": [
       "<pandas.io.formats.style.Styler at 0x14b82d1f0>"
      ]
     },
     "execution_count": 14,
     "metadata": {},
     "output_type": "execute_result"
    }
   ],
   "source": [
    "# Muestra la cantidad de clientes e ingresos concentrados en cada cartera, al tiempo\n",
    "# que muestra la desviación porcentual de los ingresos acumulados en cada cartera\n",
    "# respecto al caso donde cada cartera contiene exactamente la misma cantidad de ingresos\n",
    "df.groupby('Asignacion').agg({'Rut': 'count', 'Ingresos': 'sum'}).rename(columns={'Rut': 'Clientes'}).assign(\n",
    "    Diferencia_Porcentual=lambda x: (x.Ingresos / (df.Ingresos.sum() / nCarteras)) - 1\n",
    ").style.format(\n",
    "    thousands='.', decimal=',',\n",
    "    formatter={'Clientes': '{:,.0f}', 'Ingresos': '${:,.0f}', 'Diferencia_Porcentual': '{:,.1%}'}\n",
    ")"
   ]
  },
  {
   "cell_type": "markdown",
   "metadata": {},
   "source": [
    "# 7. Conclusiones\n",
    "\n",
    "> Con una holgura de facturación ($h_{f}$) de $`\$4.000.000`$ el algoritmo encuentra una solución óptima en aproximadamente 2 minutos con 12 segundos (**132 segundos**), mientras que con una holgura de $`\$5.000.000`$ encuentra una solución óptima en aproximadamente **3 segundos**. Es necesario recordar que no pueden existir 2 soluciones óptimas para un mismo problema, pero al cambiar las holguras el problema también cambia, ya que se modifica la región factible. Los datos y el contexto sigue siendo el mismo, pero técnicamente el problema es diferente.\n",
    "\n",
    "> Manteniendo la holgura de clientes constante ($h_{c}=1$), la diferencia entre ambas soluciones es que con una holgura más baja ($h_{f}=\\$4.000.000$) la desviación respecto al monto que debería contener cada cartera es de 0,1%, mientras que con una holgura más elevada ($h_{f}=\\$5.000.000$) esa desviación es de un 0,2%. Sin embargo, en ambos casos son 5 los clientes que quedan sin asignar. Esto se traduce en que con una holgura más baja reducimos en un 50% la desviación de asignación de ingresos respecto al monto teórico que debería acumular cada cartera, pero con una holgura más alta se reduce en un 98% el tiempo de ejecución del modelo.\n",
    "\n",
    "> Se podría decir que, en el contexto de los modelos de optimización, el objetivo siempre será encontrar una solución óptima. Sin embargo, en el contexto de la tarea que nos lleva a abordar el problema mediante un modelo de optimización, lo más importante es el tiempo, ya que el objetivo de la tarea es conseguir una distribución de clientes e ingresos entre cada cartera lo más equitativa posible en el menor tiempo posible. Si el conjunto de datos y/o el planteamiento del modelo fueran \"más complejos\", la reducción de 98% en el tiempo de ejecución del problema podría no ser de 2 minutos, sino 30 minutos, o incluso horas. Es más, podría darse el caso en que alcanzar una solución factible que no sea la óptima sea más que suficiente para abordar la tarea cumpliendo en tiempo y forma."
   ]
  },
  {
   "cell_type": "markdown",
   "metadata": {},
   "source": [
    "# 8. Exportación de Resultados"
   ]
  },
  {
   "cell_type": "code",
   "execution_count": 15,
   "metadata": {},
   "outputs": [],
   "source": [
    "# Exporta la base de clientes asignada\n",
    "df.to_excel('results/Resultado_Ejemplo.xlsx', index=False)\n",
    "\n",
    "# Exporta el modelo optimizado\n",
    "modelo.write('results/Modelo_Resultado.lp')"
   ]
  }
 ],
 "metadata": {
  "kernelspec": {
   "display_name": "armhp",
   "language": "python",
   "name": "python3"
  },
  "language_info": {
   "codemirror_mode": {
    "name": "ipython",
    "version": 3
   },
   "file_extension": ".py",
   "mimetype": "text/x-python",
   "name": "python",
   "nbconvert_exporter": "python",
   "pygments_lexer": "ipython3",
   "version": "3.12.5"
  }
 },
 "nbformat": 4,
 "nbformat_minor": 2
}
