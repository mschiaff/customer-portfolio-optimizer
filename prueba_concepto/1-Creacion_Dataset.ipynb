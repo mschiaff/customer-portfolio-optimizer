{
 "cells": [
  {
   "cell_type": "markdown",
   "metadata": {},
   "source": [
    "# 1. Importación de librerías"
   ]
  },
  {
   "cell_type": "code",
   "execution_count": 1,
   "metadata": {},
   "outputs": [],
   "source": [
    "# Importa librería numpy como np\n",
    "import numpy as np\n",
    "\n",
    "# Importa librería pandas como pd\n",
    "import pandas as pd\n",
    "\n",
    "# Importa función personalizada para calcular dígito verificador\n",
    "from lib.rut import get_verifier"
   ]
  },
  {
   "cell_type": "markdown",
   "metadata": {},
   "source": [
    "# 2. Creación dataset"
   ]
  },
  {
   "cell_type": "code",
   "execution_count": null,
   "metadata": {},
   "outputs": [],
   "source": [
    "# Define variable con la cantidad de registros aleatorios para el dataser\n",
    "size = 5721\n",
    "\n",
    "# Fija la semilla aleatoria para poder reproducir el experimento\n",
    "rng = np.random.RandomState(seed=42)\n",
    "\n",
    "# Crea dataframe con correlativo de RUT y valor de ingresos aleatoria\n",
    "# como distribución uniforme\n",
    "df = pd.DataFrame(\n",
    "    {\n",
    "        'Rut': rng.randint(low=50_000_000, high=75_000_000, size=size),\n",
    "        'Ingresos': rng.randint(low=900_000, high=3_000_000, size=size)\n",
    "    }\n",
    ")\n",
    "\n",
    "# Inserta campo con el dígito verificador calculado de acuerdo con el\n",
    "# algoritmo usado en Chile (Módulo 11)\n",
    "df.insert(\n",
    "    loc=df.columns.get_loc('Rut') + 1,\n",
    "    column='Dv', value=df.Rut.apply(get_verifier)\n",
    ")"
   ]
  },
  {
   "cell_type": "markdown",
   "metadata": {},
   "source": [
    "# 3. Información y estadística básica del dataset"
   ]
  },
  {
   "cell_type": "code",
   "execution_count": null,
   "metadata": {},
   "outputs": [
    {
     "name": "stdout",
     "output_type": "stream",
     "text": [
      "<class 'pandas.core.frame.DataFrame'>\n",
      "RangeIndex: 5721 entries, 0 to 5720\n",
      "Data columns (total 3 columns):\n",
      " #   Column    Non-Null Count  Dtype \n",
      "---  ------    --------------  ----- \n",
      " 0   Rut       5721 non-null   int64 \n",
      " 1   Dv        5721 non-null   object\n",
      " 2   Ingresos  5721 non-null   int64 \n",
      "dtypes: int64(2), object(1)\n",
      "memory usage: 134.2+ KB\n"
     ]
    }
   ],
   "source": [
    "# Muestra información básica de recuento de registros y tipos de dato\n",
    "df.info()"
   ]
  },
  {
   "cell_type": "code",
   "execution_count": null,
   "metadata": {},
   "outputs": [
    {
     "data": {
      "text/html": [
       "<style type=\"text/css\">\n",
       "</style>\n",
       "<table id=\"T_8b2f2\">\n",
       "  <thead>\n",
       "    <tr>\n",
       "      <th class=\"blank level0\" >&nbsp;</th>\n",
       "      <th id=\"T_8b2f2_level0_col0\" class=\"col_heading level0 col0\" >Rut</th>\n",
       "      <th id=\"T_8b2f2_level0_col1\" class=\"col_heading level0 col1\" >Ingresos</th>\n",
       "    </tr>\n",
       "  </thead>\n",
       "  <tbody>\n",
       "    <tr>\n",
       "      <th id=\"T_8b2f2_level0_row0\" class=\"row_heading level0 row0\" >count</th>\n",
       "      <td id=\"T_8b2f2_row0_col0\" class=\"data row0 col0\" >5.721</td>\n",
       "      <td id=\"T_8b2f2_row0_col1\" class=\"data row0 col1\" >5.721</td>\n",
       "    </tr>\n",
       "    <tr>\n",
       "      <th id=\"T_8b2f2_level0_row1\" class=\"row_heading level0 row1\" >mean</th>\n",
       "      <td id=\"T_8b2f2_row1_col0\" class=\"data row1 col0\" >62.619.963</td>\n",
       "      <td id=\"T_8b2f2_row1_col1\" class=\"data row1 col1\" >1.953.266</td>\n",
       "    </tr>\n",
       "    <tr>\n",
       "      <th id=\"T_8b2f2_level0_row2\" class=\"row_heading level0 row2\" >std</th>\n",
       "      <td id=\"T_8b2f2_row2_col0\" class=\"data row2 col0\" >7.211.052</td>\n",
       "      <td id=\"T_8b2f2_row2_col1\" class=\"data row2 col1\" >605.918</td>\n",
       "    </tr>\n",
       "    <tr>\n",
       "      <th id=\"T_8b2f2_level0_row3\" class=\"row_heading level0 row3\" >min</th>\n",
       "      <td id=\"T_8b2f2_row3_col0\" class=\"data row3 col0\" >50.000.917</td>\n",
       "      <td id=\"T_8b2f2_row3_col1\" class=\"data row3 col1\" >900.037</td>\n",
       "    </tr>\n",
       "    <tr>\n",
       "      <th id=\"T_8b2f2_level0_row4\" class=\"row_heading level0 row4\" >25%</th>\n",
       "      <td id=\"T_8b2f2_row4_col0\" class=\"data row4 col0\" >56.319.707</td>\n",
       "      <td id=\"T_8b2f2_row4_col1\" class=\"data row4 col1\" >1.434.820</td>\n",
       "    </tr>\n",
       "    <tr>\n",
       "      <th id=\"T_8b2f2_level0_row5\" class=\"row_heading level0 row5\" >50%</th>\n",
       "      <td id=\"T_8b2f2_row5_col0\" class=\"data row5 col0\" >62.722.094</td>\n",
       "      <td id=\"T_8b2f2_row5_col1\" class=\"data row5 col1\" >1.949.520</td>\n",
       "    </tr>\n",
       "    <tr>\n",
       "      <th id=\"T_8b2f2_level0_row6\" class=\"row_heading level0 row6\" >75%</th>\n",
       "      <td id=\"T_8b2f2_row6_col0\" class=\"data row6 col0\" >68.895.649</td>\n",
       "      <td id=\"T_8b2f2_row6_col1\" class=\"data row6 col1\" >2.487.361</td>\n",
       "    </tr>\n",
       "    <tr>\n",
       "      <th id=\"T_8b2f2_level0_row7\" class=\"row_heading level0 row7\" >max</th>\n",
       "      <td id=\"T_8b2f2_row7_col0\" class=\"data row7 col0\" >74.999.678</td>\n",
       "      <td id=\"T_8b2f2_row7_col1\" class=\"data row7 col1\" >2.999.678</td>\n",
       "    </tr>\n",
       "  </tbody>\n",
       "</table>\n"
      ],
      "text/plain": [
       "<pandas.io.formats.style.Styler at 0x13e96d460>"
      ]
     },
     "execution_count": 17,
     "metadata": {},
     "output_type": "execute_result"
    }
   ],
   "source": [
    "# Muestra estadísticas del dataset para cada campo, menos el de dígito verificador\n",
    "df.describe().style.format(\n",
    "    thousands='.', decimal=',',\n",
    "    formatter={'Rut': '{:,.0f}', 'Ingresos': '{:,.0f}'}\n",
    ")"
   ]
  },
  {
   "cell_type": "code",
   "execution_count": null,
   "metadata": {},
   "outputs": [
    {
     "data": {
      "text/plain": [
       "'$11.174.633.002'"
      ]
     },
     "execution_count": 31,
     "metadata": {},
     "output_type": "execute_result"
    }
   ],
   "source": [
    "# Muestra la suma total de ingresos del dataset\n",
    "f'${df.Ingresos.sum():,.0f}'.replace(',', '.')"
   ]
  },
  {
   "cell_type": "markdown",
   "metadata": {},
   "source": [
    "# 4. Exportación de resultados"
   ]
  },
  {
   "cell_type": "code",
   "execution_count": null,
   "metadata": {},
   "outputs": [],
   "source": [
    "# Exporta el dataset creado a un libro de Excel\n",
    "df.to_excel('data/Dataset_Ejemplo.xlsx', index=False, sheet_name='Data')"
   ]
  }
 ],
 "metadata": {
  "kernelspec": {
   "display_name": "armhp",
   "language": "python",
   "name": "python3"
  },
  "language_info": {
   "codemirror_mode": {
    "name": "ipython",
    "version": 3
   },
   "file_extension": ".py",
   "mimetype": "text/x-python",
   "name": "python",
   "nbconvert_exporter": "python",
   "pygments_lexer": "ipython3",
   "version": "3.12.5"
  }
 },
 "nbformat": 4,
 "nbformat_minor": 2
}
